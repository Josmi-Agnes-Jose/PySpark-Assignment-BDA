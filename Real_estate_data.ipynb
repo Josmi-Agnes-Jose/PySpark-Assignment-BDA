{
 "cells": [
  {
   "cell_type": "markdown",
   "metadata": {},
   "source": [
    "\n",
    "# PySpark Assignment"
   ]
  },
  {
   "cell_type": "markdown",
   "metadata": {},
   "source": [
    "## RealEstate Housing Data"
   ]
  },
  {
   "cell_type": "markdown",
   "metadata": {},
   "source": [
    "1. Extract: Load the data\n",
    " - Read data all csv as txt as rdd\n",
    "2. Transform: Exploratory data analysis using rdd\n",
    " - Unique records count\n",
    " - Extract full address from the column url*\n",
    " - from http://www.zillow.com/homes/for_sale//homedetails/V-l-Buell-Newstead-NY\u000210001/2089629334_zpid/\n",
    " - to V-l-Buell-Newstead-NY-10001\n",
    " - Replace NA by zero in all numerical columns\n",
    " - concat - bedrooms*, bathrooms* as bed_bath_rooms* 3b2bh\n",
    " - GroupBy zip,bed_bath_rooms* and avg, max, min\n",
    "3. Load: Save analysis report\n",
    " - GroupBy zip,bed_bath_rooms* and avg, max, min, save as files\n"
   ]
  },
  {
   "cell_type": "code",
   "execution_count": 1,
   "metadata": {},
   "outputs": [],
   "source": [
    "from random import random\n",
    "import os\n",
    "import pyspark\n",
    "from pyspark.sql import SparkSession"
   ]
  },
  {
   "cell_type": "code",
   "execution_count": 2,
   "metadata": {},
   "outputs": [],
   "source": [
    "spark = SparkSession.builder.master(\"local\").\\\n",
    "        appName(\"SparkApplication\").\\\n",
    "        config(\"spark.driver.bindAddress\",\"localhost\").\\\n",
    "        config(\"spark.ui.port\",\"4041\").\\\n",
    "        getOrCreate()"
   ]
  },
  {
   "cell_type": "code",
   "execution_count": 3,
   "metadata": {},
   "outputs": [],
   "source": [
    "sc = spark.sparkContext"
   ]
  },
  {
   "cell_type": "markdown",
   "metadata": {},
   "source": [
    "### To read multiple CSV files in Spark into single RDD."
   ]
  },
  {
   "cell_type": "code",
   "execution_count": 4,
   "metadata": {},
   "outputs": [],
   "source": [
    "data=sc.textFile(\"2018-05-12_154616.csv,2018-05-12_155104.csv,2018-05-12_155435.csv\")"
   ]
  },
  {
   "cell_type": "code",
   "execution_count": 5,
   "metadata": {},
   "outputs": [],
   "source": [
    "# Filter out header row\n",
    "header=data.first()"
   ]
  },
  {
   "cell_type": "code",
   "execution_count": 6,
   "metadata": {},
   "outputs": [
    {
     "name": "stdout",
     "output_type": "stream",
     "text": [
      "address,city,state,zip,price,sqft,bedrooms,bathrooms,days_on_zillow,sale_type,url\n"
     ]
    }
   ],
   "source": [
    "print(header)"
   ]
  },
  {
   "cell_type": "code",
   "execution_count": 7,
   "metadata": {},
   "outputs": [],
   "source": [
    "# remove header\n",
    "step1= data.filter(lambda line: line !=header)"
   ]
  },
  {
   "cell_type": "code",
   "execution_count": 8,
   "metadata": {},
   "outputs": [
    {
     "data": {
      "text/plain": [
       "['V/l Buell,Newstead,NY,10001,49000,NA,NA,NA,2,Lot/Land For Sale,http://www.zillow.com/homes/for_sale//homedetails/V-l-Buell-Newstead-NY-10001/2089629334_zpid/',\n",
       " '263 9th Ave # PHD,New York,NY,10001,4495000,2250,3,2,1,Condo For Sale,http://www.zillow.com/homes/for_sale//homedetails/263-9th-Ave-PHD-New-York-NY-10001/2103425273_zpid/']"
      ]
     },
     "execution_count": 8,
     "metadata": {},
     "output_type": "execute_result"
    }
   ],
   "source": [
    "step1.take(2)"
   ]
  },
  {
   "cell_type": "markdown",
   "metadata": {},
   "source": [
    "### Total records count"
   ]
  },
  {
   "cell_type": "code",
   "execution_count": 9,
   "metadata": {},
   "outputs": [
    {
     "data": {
      "text/plain": [
       "1117"
      ]
     },
     "execution_count": 9,
     "metadata": {},
     "output_type": "execute_result"
    }
   ],
   "source": [
    "step1.count()"
   ]
  },
  {
   "cell_type": "markdown",
   "metadata": {},
   "source": [
    "### Total unique records count"
   ]
  },
  {
   "cell_type": "code",
   "execution_count": 10,
   "metadata": {},
   "outputs": [
    {
     "data": {
      "text/plain": [
       "1064"
      ]
     },
     "execution_count": 10,
     "metadata": {},
     "output_type": "execute_result"
    }
   ],
   "source": [
    "step1.distinct().count()"
   ]
  },
  {
   "cell_type": "code",
   "execution_count": 11,
   "metadata": {},
   "outputs": [],
   "source": [
    "### Filtering out duplicate records"
   ]
  },
  {
   "cell_type": "code",
   "execution_count": 12,
   "metadata": {},
   "outputs": [],
   "source": [
    "step2=step1.distinct()"
   ]
  },
  {
   "cell_type": "code",
   "execution_count": 13,
   "metadata": {},
   "outputs": [
    {
     "data": {
      "text/plain": [
       "1064"
      ]
     },
     "execution_count": 13,
     "metadata": {},
     "output_type": "execute_result"
    }
   ],
   "source": [
    "step2.count()"
   ]
  },
  {
   "cell_type": "markdown",
   "metadata": {},
   "source": [
    "### Extract full address from url"
   ]
  },
  {
   "cell_type": "code",
   "execution_count": 14,
   "metadata": {},
   "outputs": [],
   "source": [
    "#Splitting each line by commma to form array\n",
    "step3= step2.map(lambda line: line.split(\",\"))"
   ]
  },
  {
   "cell_type": "code",
   "execution_count": 15,
   "metadata": {
    "scrolled": true
   },
   "outputs": [
    {
     "data": {
      "text/plain": [
       "['252 7th Ave APT 4L',\n",
       " 'NEW YORK',\n",
       " 'NY',\n",
       " '10001',\n",
       " '1529000',\n",
       " '980',\n",
       " '0',\n",
       " '1',\n",
       " '2',\n",
       " 'Condo For Sale',\n",
       " 'http://www.zillow.com/homes/for_sale//homedetails/252-7th-Ave-APT-4L-New-York-NY-10001/55501383_zpid/']"
      ]
     },
     "execution_count": 15,
     "metadata": {},
     "output_type": "execute_result"
    }
   ],
   "source": [
    "step3.first()"
   ]
  },
  {
   "cell_type": "code",
   "execution_count": 16,
   "metadata": {},
   "outputs": [
    {
     "data": {
      "text/plain": [
       "[['252 7th Ave APT 4L',\n",
       "  'NEW YORK',\n",
       "  'NY',\n",
       "  '10001',\n",
       "  '1529000',\n",
       "  '980',\n",
       "  '0',\n",
       "  '1',\n",
       "  '2',\n",
       "  'Condo For Sale',\n",
       "  'http://www.zillow.com/homes/for_sale//homedetails/252-7th-Ave-APT-4L-New-York-NY-10001/55501383_zpid/'],\n",
       " ['133 W 28th St APT 6-C',\n",
       "  'New York',\n",
       "  'NY',\n",
       "  '10001',\n",
       "  '1550000',\n",
       "  '1300',\n",
       "  '2',\n",
       "  '2',\n",
       "  'NA',\n",
       "  'Co-op For Sale',\n",
       "  'http://www.zillow.com/homes/for_sale//homedetails/133-W-28th-St-APT-6-C-New-York-NY-10001/79496201_zpid/']]"
      ]
     },
     "execution_count": 16,
     "metadata": {},
     "output_type": "execute_result"
    }
   ],
   "source": [
    "step3.take(2)"
   ]
  },
  {
   "cell_type": "code",
   "execution_count": 17,
   "metadata": {},
   "outputs": [],
   "source": [
    "# Module/self designed function for extracting address from url\n",
    "def extract_address(url):\n",
    "    after_split=url.split(\"/\")\n",
    "    return(after_split[-3])"
   ]
  },
  {
   "cell_type": "code",
   "execution_count": 18,
   "metadata": {},
   "outputs": [
    {
     "data": {
      "text/plain": [
       "'252-7th-Ave-APT-4L-New-York-NY-10001'"
      ]
     },
     "execution_count": 18,
     "metadata": {},
     "output_type": "execute_result"
    }
   ],
   "source": [
    "extract_address(\"http://www.zillow.com/homes/for_sale//homedetails/252-7th-Ave-APT-4L-New-York-NY-10001/55501383_zpid/\")"
   ]
  },
  {
   "cell_type": "code",
   "execution_count": 19,
   "metadata": {},
   "outputs": [],
   "source": [
    "step4=step3.map(lambda x: (x[0],x[1],x[2],x[3],x[4],x[5],x[6],x[7],x[8],x[9],x[10],extract_address(x[-1])))"
   ]
  },
  {
   "cell_type": "code",
   "execution_count": 20,
   "metadata": {},
   "outputs": [
    {
     "data": {
      "text/plain": [
       "[('252 7th Ave APT 4L',\n",
       "  'NEW YORK',\n",
       "  'NY',\n",
       "  '10001',\n",
       "  '1529000',\n",
       "  '980',\n",
       "  '0',\n",
       "  '1',\n",
       "  '2',\n",
       "  'Condo For Sale',\n",
       "  'http://www.zillow.com/homes/for_sale//homedetails/252-7th-Ave-APT-4L-New-York-NY-10001/55501383_zpid/',\n",
       "  '252-7th-Ave-APT-4L-New-York-NY-10001'),\n",
       " ('133 W 28th St APT 6-C',\n",
       "  'New York',\n",
       "  'NY',\n",
       "  '10001',\n",
       "  '1550000',\n",
       "  '1300',\n",
       "  '2',\n",
       "  '2',\n",
       "  'NA',\n",
       "  'Co-op For Sale',\n",
       "  'http://www.zillow.com/homes/for_sale//homedetails/133-W-28th-St-APT-6-C-New-York-NY-10001/79496201_zpid/',\n",
       "  '133-W-28th-St-APT-6-C-New-York-NY-10001')]"
      ]
     },
     "execution_count": 20,
     "metadata": {},
     "output_type": "execute_result"
    }
   ],
   "source": [
    "step4.take(2)"
   ]
  },
  {
   "cell_type": "code",
   "execution_count": 21,
   "metadata": {},
   "outputs": [
    {
     "data": {
      "text/plain": [
       "[('252 7th Ave APT 4L',\n",
       "  'NEW YORK',\n",
       "  'NY',\n",
       "  '10001',\n",
       "  '1529000',\n",
       "  '980',\n",
       "  '0',\n",
       "  '1',\n",
       "  '2',\n",
       "  'Condo For Sale',\n",
       "  'http://www.zillow.com/homes/for_sale//homedetails/252-7th-Ave-APT-4L-New-York-NY-10001/55501383_zpid/',\n",
       "  '252-7th-Ave-APT-4L-New-York-NY-10001'),\n",
       " ('133 W 28th St APT 6-C',\n",
       "  'New York',\n",
       "  'NY',\n",
       "  '10001',\n",
       "  '1550000',\n",
       "  '1300',\n",
       "  '2',\n",
       "  '2',\n",
       "  'NA',\n",
       "  'Co-op For Sale',\n",
       "  'http://www.zillow.com/homes/for_sale//homedetails/133-W-28th-St-APT-6-C-New-York-NY-10001/79496201_zpid/',\n",
       "  '133-W-28th-St-APT-6-C-New-York-NY-10001')]"
      ]
     },
     "execution_count": 21,
     "metadata": {},
     "output_type": "execute_result"
    }
   ],
   "source": [
    "step4.take(2)"
   ]
  },
  {
   "cell_type": "markdown",
   "metadata": {},
   "source": [
    "### Replacing NA by 0 in all numerical columns"
   ]
  },
  {
   "cell_type": "code",
   "execution_count": 22,
   "metadata": {},
   "outputs": [],
   "source": [
    "# function to convert numerical columns from string to int and replace NA values by 0 for a list of columns\n",
    "def replace_na_0(column_val):\n",
    "    try:\n",
    "        return int(float(column_val))\n",
    "    except:\n",
    "        return 0"
   ]
  },
  {
   "cell_type": "code",
   "execution_count": 23,
   "metadata": {},
   "outputs": [],
   "source": [
    "num_columns=[3,4,5,6,7,8]"
   ]
  },
  {
   "cell_type": "code",
   "execution_count": 24,
   "metadata": {},
   "outputs": [],
   "source": [
    "step5=step4.map(lambda x: (x[0],x[1],x[2],replace_na_0(x[3]),replace_na_0(x[4]),replace_na_0(x[5]),\n",
    "                           replace_na_0(x[6]),replace_na_0(x[7]),replace_na_0(x[8]),x[9],x[10],x[11]))"
   ]
  },
  {
   "cell_type": "code",
   "execution_count": 25,
   "metadata": {
    "scrolled": false
   },
   "outputs": [
    {
     "data": {
      "text/plain": [
       "[('252 7th Ave APT 4L',\n",
       "  'NEW YORK',\n",
       "  'NY',\n",
       "  '10001',\n",
       "  '1529000',\n",
       "  '980',\n",
       "  '0',\n",
       "  '1',\n",
       "  '2',\n",
       "  'Condo For Sale',\n",
       "  'http://www.zillow.com/homes/for_sale//homedetails/252-7th-Ave-APT-4L-New-York-NY-10001/55501383_zpid/',\n",
       "  '252-7th-Ave-APT-4L-New-York-NY-10001'),\n",
       " ('133 W 28th St APT 6-C',\n",
       "  'New York',\n",
       "  'NY',\n",
       "  '10001',\n",
       "  '1550000',\n",
       "  '1300',\n",
       "  '2',\n",
       "  '2',\n",
       "  'NA',\n",
       "  'Co-op For Sale',\n",
       "  'http://www.zillow.com/homes/for_sale//homedetails/133-W-28th-St-APT-6-C-New-York-NY-10001/79496201_zpid/',\n",
       "  '133-W-28th-St-APT-6-C-New-York-NY-10001')]"
      ]
     },
     "execution_count": 25,
     "metadata": {},
     "output_type": "execute_result"
    }
   ],
   "source": [
    "step4.take(2)"
   ]
  },
  {
   "cell_type": "markdown",
   "metadata": {},
   "source": [
    "* In the above output we can see the second record has NA values for a numerical column.\n",
    "* This has been replaced in step5 and this is reflected in the following output"
   ]
  },
  {
   "cell_type": "code",
   "execution_count": 26,
   "metadata": {},
   "outputs": [
    {
     "data": {
      "text/plain": [
       "[('252 7th Ave APT 4L',\n",
       "  'NEW YORK',\n",
       "  'NY',\n",
       "  10001,\n",
       "  1529000,\n",
       "  980,\n",
       "  0,\n",
       "  1,\n",
       "  2,\n",
       "  'Condo For Sale',\n",
       "  'http://www.zillow.com/homes/for_sale//homedetails/252-7th-Ave-APT-4L-New-York-NY-10001/55501383_zpid/',\n",
       "  '252-7th-Ave-APT-4L-New-York-NY-10001'),\n",
       " ('133 W 28th St APT 6-C',\n",
       "  'New York',\n",
       "  'NY',\n",
       "  10001,\n",
       "  1550000,\n",
       "  1300,\n",
       "  2,\n",
       "  2,\n",
       "  0,\n",
       "  'Co-op For Sale',\n",
       "  'http://www.zillow.com/homes/for_sale//homedetails/133-W-28th-St-APT-6-C-New-York-NY-10001/79496201_zpid/',\n",
       "  '133-W-28th-St-APT-6-C-New-York-NY-10001')]"
      ]
     },
     "execution_count": 26,
     "metadata": {},
     "output_type": "execute_result"
    }
   ],
   "source": [
    "step5.take(2)"
   ]
  },
  {
   "cell_type": "markdown",
   "metadata": {},
   "source": [
    "### Concat - bedrooms*, bathrooms* as bed_bath_rooms* 3b2bh"
   ]
  },
  {
   "cell_type": "code",
   "execution_count": 27,
   "metadata": {},
   "outputs": [],
   "source": [
    "# function to concat values in 6 and 7 th columns to give new column bed_bath_rooms\n",
    "def bed_n_bath_combined(val1,val2):\n",
    "    return str(val1)+\"b\"+str(val2)+\"bh\""
   ]
  },
  {
   "cell_type": "code",
   "execution_count": 28,
   "metadata": {},
   "outputs": [],
   "source": [
    "step6=step5.map(lambda x: (x[0],x[1],x[2],x[3],x[4],x[5],bed_n_bath_combined(x[6],x[7]),x[8],x[9],x[10],x[11]))"
   ]
  },
  {
   "cell_type": "code",
   "execution_count": 29,
   "metadata": {},
   "outputs": [
    {
     "data": {
      "text/plain": [
       "[('252 7th Ave APT 4L',\n",
       "  'NEW YORK',\n",
       "  'NY',\n",
       "  10001,\n",
       "  1529000,\n",
       "  980,\n",
       "  0,\n",
       "  1,\n",
       "  2,\n",
       "  'Condo For Sale',\n",
       "  'http://www.zillow.com/homes/for_sale//homedetails/252-7th-Ave-APT-4L-New-York-NY-10001/55501383_zpid/',\n",
       "  '252-7th-Ave-APT-4L-New-York-NY-10001'),\n",
       " ('133 W 28th St APT 6-C',\n",
       "  'New York',\n",
       "  'NY',\n",
       "  10001,\n",
       "  1550000,\n",
       "  1300,\n",
       "  2,\n",
       "  2,\n",
       "  0,\n",
       "  'Co-op For Sale',\n",
       "  'http://www.zillow.com/homes/for_sale//homedetails/133-W-28th-St-APT-6-C-New-York-NY-10001/79496201_zpid/',\n",
       "  '133-W-28th-St-APT-6-C-New-York-NY-10001')]"
      ]
     },
     "execution_count": 29,
     "metadata": {},
     "output_type": "execute_result"
    }
   ],
   "source": [
    "step5.take(2)"
   ]
  },
  {
   "cell_type": "code",
   "execution_count": 30,
   "metadata": {},
   "outputs": [
    {
     "data": {
      "text/plain": [
       "[('252 7th Ave APT 4L',\n",
       "  'NEW YORK',\n",
       "  'NY',\n",
       "  10001,\n",
       "  1529000,\n",
       "  980,\n",
       "  '0b1bh',\n",
       "  2,\n",
       "  'Condo For Sale',\n",
       "  'http://www.zillow.com/homes/for_sale//homedetails/252-7th-Ave-APT-4L-New-York-NY-10001/55501383_zpid/',\n",
       "  '252-7th-Ave-APT-4L-New-York-NY-10001'),\n",
       " ('133 W 28th St APT 6-C',\n",
       "  'New York',\n",
       "  'NY',\n",
       "  10001,\n",
       "  1550000,\n",
       "  1300,\n",
       "  '2b2bh',\n",
       "  0,\n",
       "  'Co-op For Sale',\n",
       "  'http://www.zillow.com/homes/for_sale//homedetails/133-W-28th-St-APT-6-C-New-York-NY-10001/79496201_zpid/',\n",
       "  '133-W-28th-St-APT-6-C-New-York-NY-10001')]"
      ]
     },
     "execution_count": 30,
     "metadata": {},
     "output_type": "execute_result"
    }
   ],
   "source": [
    "step6.take(2)"
   ]
  },
  {
   "cell_type": "markdown",
   "metadata": {},
   "source": [
    "###  GroupBy zip,bed_bath_rooms* and avg, max, min\n"
   ]
  },
  {
   "cell_type": "code",
   "execution_count": 31,
   "metadata": {},
   "outputs": [],
   "source": [
    "# Creating an rdd that contains only the zipid, bed_bath_rooms and price columns\n",
    "step7 = step6.map(lambda x: (x[3],x[6],x[4]))"
   ]
  },
  {
   "cell_type": "code",
   "execution_count": 32,
   "metadata": {},
   "outputs": [
    {
     "data": {
      "text/plain": [
       "[(10001, '0b1bh', 1529000),\n",
       " (10001, '2b2bh', 1550000),\n",
       " (10001, '2b2bh', 3300000),\n",
       " (10001, '3b3bh', 6495000),\n",
       " (10001, '2b3bh', 4350000),\n",
       " (10001, '2b2bh', 2700000),\n",
       " (10001, '0b1bh', 410000),\n",
       " (10001, '3b3bh', 4450000),\n",
       " (10001, '2b2bh', 1995000),\n",
       " (10001, '5b5bh', 6995000)]"
      ]
     },
     "execution_count": 32,
     "metadata": {},
     "output_type": "execute_result"
    }
   ],
   "source": [
    "step7.take(10)"
   ]
  },
  {
   "cell_type": "code",
   "execution_count": 33,
   "metadata": {},
   "outputs": [],
   "source": [
    "# Grouping by zip and then bed_bath_rooms\n",
    "step8 = step7.groupBy(lambda x: (x[0],x[1]))"
   ]
  },
  {
   "cell_type": "code",
   "execution_count": 34,
   "metadata": {},
   "outputs": [
    {
     "data": {
      "text/plain": [
       "[((10001, '0b1bh'), <pyspark.resultiterable.ResultIterable at 0x19f3391c040>),\n",
       " ((10001, '0b0bh'), <pyspark.resultiterable.ResultIterable at 0x19f3391caf0>),\n",
       " ((10003, '2b2bh'), <pyspark.resultiterable.ResultIterable at 0x19f3391cc40>),\n",
       " ((10003, '2b4bh'), <pyspark.resultiterable.ResultIterable at 0x19f3391cb80>),\n",
       " ((10003, '8b10bh'), <pyspark.resultiterable.ResultIterable at 0x19f3391ca90>),\n",
       " ((10002, '1b1bh'), <pyspark.resultiterable.ResultIterable at 0x19f3391c2e0>),\n",
       " ((10002, '3b2bh'), <pyspark.resultiterable.ResultIterable at 0x19f3391cd00>),\n",
       " ((10002, '2b3bh'), <pyspark.resultiterable.ResultIterable at 0x19f3391c850>),\n",
       " ((10002, '0b0bh'), <pyspark.resultiterable.ResultIterable at 0x19f3391c610>),\n",
       " ((10004, '4b5bh'), <pyspark.resultiterable.ResultIterable at 0x19f339063d0>)]"
      ]
     },
     "execution_count": 34,
     "metadata": {},
     "output_type": "execute_result"
    }
   ],
   "source": [
    "step8.take(10)"
   ]
  },
  {
   "cell_type": "code",
   "execution_count": 35,
   "metadata": {},
   "outputs": [
    {
     "data": {
      "text/plain": [
       "[((10001, '0b1bh'),\n",
       "  [(10001, '0b1bh', 1529000),\n",
       "   (10001, '0b1bh', 410000),\n",
       "   (10001, '0b1bh', 435000),\n",
       "   (10001, '0b1bh', 625000),\n",
       "   (10001, '0b1bh', 435000),\n",
       "   (10001, '0b1bh', 449500),\n",
       "   (10001, '0b1bh', 1295000)]),\n",
       " ((10001, '0b0bh'),\n",
       "  [(10001, '0b0bh', 0), (10001, '0b0bh', 49000), (10001, '0b0bh', 0)])]"
      ]
     },
     "execution_count": 35,
     "metadata": {},
     "output_type": "execute_result"
    }
   ],
   "source": [
    "step8.mapValues(list).take(2)"
   ]
  },
  {
   "cell_type": "code",
   "execution_count": 36,
   "metadata": {},
   "outputs": [],
   "source": [
    "# Aggregate min\n",
    "step9= step8.map(lambda x: min(x[1]))"
   ]
  },
  {
   "cell_type": "code",
   "execution_count": 37,
   "metadata": {},
   "outputs": [
    {
     "data": {
      "text/plain": [
       "[(10001, '0b1bh', 410000),\n",
       " (10001, '0b0bh', 0),\n",
       " (10003, '2b2bh', 1395000),\n",
       " (10003, '2b4bh', 7000000),\n",
       " (10003, '8b10bh', 17800000),\n",
       " (10002, '1b1bh', 400000),\n",
       " (10002, '3b2bh', 1100000),\n",
       " (10002, '2b3bh', 1850000),\n",
       " (10002, '0b0bh', 0),\n",
       " (10004, '4b5bh', 2500000)]"
      ]
     },
     "execution_count": 37,
     "metadata": {},
     "output_type": "execute_result"
    }
   ],
   "source": [
    "step9.take(10)"
   ]
  },
  {
   "cell_type": "code",
   "execution_count": 38,
   "metadata": {},
   "outputs": [],
   "source": [
    "# aggregating by max value\n",
    "step10= step8.map(lambda x: max(x[1]))"
   ]
  },
  {
   "cell_type": "code",
   "execution_count": 39,
   "metadata": {
    "scrolled": false
   },
   "outputs": [
    {
     "data": {
      "text/plain": [
       "[(10001, '0b1bh', 1529000),\n",
       " (10001, '0b0bh', 49000),\n",
       " (10003, '2b2bh', 7350000),\n",
       " (10003, '2b4bh', 23000000),\n",
       " (10003, '8b10bh', 17800000),\n",
       " (10002, '1b1bh', 2750000),\n",
       " (10002, '3b2bh', 3527000),\n",
       " (10002, '2b3bh', 9995000),\n",
       " (10002, '0b0bh', 9750000),\n",
       " (10004, '4b5bh', 10995000)]"
      ]
     },
     "execution_count": 39,
     "metadata": {},
     "output_type": "execute_result"
    }
   ],
   "source": [
    "step10.take(10)"
   ]
  },
  {
   "cell_type": "code",
   "execution_count": 40,
   "metadata": {},
   "outputs": [],
   "source": [
    "# function to find mean\n",
    "\n",
    "def mean_val(x):\n",
    "    sums=0\n",
    "    l=0\n",
    "    for i in x:\n",
    "        sums=(i[2])+sums\n",
    "        l=l+1\n",
    "    return (round(sums/l,2))"
   ]
  },
  {
   "cell_type": "code",
   "execution_count": 41,
   "metadata": {},
   "outputs": [],
   "source": [
    "# aggregating by mean\n",
    "step11= step8.map(lambda x: (x[0][0],x[0][1], mean_val(x[1])))"
   ]
  },
  {
   "cell_type": "code",
   "execution_count": 42,
   "metadata": {},
   "outputs": [
    {
     "data": {
      "text/plain": [
       "[(10001, '0b1bh', 739785.71),\n",
       " (10001, '0b0bh', 16333.33),\n",
       " (10003, '2b2bh', 2505388.88),\n",
       " (10003, '2b4bh', 13300000.0),\n",
       " (10003, '8b10bh', 17800000.0),\n",
       " (10002, '1b1bh', 1093295.45),\n",
       " (10002, '3b2bh', 2388217.14),\n",
       " (10002, '2b3bh', 3885400.0),\n",
       " (10002, '0b0bh', 2295454.55),\n",
       " (10004, '4b5bh', 6535750.0)]"
      ]
     },
     "execution_count": 42,
     "metadata": {},
     "output_type": "execute_result"
    }
   ],
   "source": [
    "step11.take(10)"
   ]
  },
  {
   "cell_type": "code",
   "execution_count": 43,
   "metadata": {},
   "outputs": [],
   "source": [
    "# aggregate all 3 (min,max and average) in one step\n",
    "step12= step8.map(lambda x: (x[0][0],x[0][1],mean_val(x[1]),min(x[1])[2],max(x[1])[2]))"
   ]
  },
  {
   "cell_type": "code",
   "execution_count": 44,
   "metadata": {},
   "outputs": [
    {
     "data": {
      "text/plain": [
       "[(10001, '0b1bh', 739785.71, 410000, 1529000),\n",
       " (10001, '0b0bh', 16333.33, 0, 49000),\n",
       " (10003, '2b2bh', 2505388.88, 1395000, 7350000),\n",
       " (10003, '2b4bh', 13300000.0, 7000000, 23000000),\n",
       " (10003, '8b10bh', 17800000.0, 17800000, 17800000),\n",
       " (10002, '1b1bh', 1093295.45, 400000, 2750000),\n",
       " (10002, '3b2bh', 2388217.14, 1100000, 3527000),\n",
       " (10002, '2b3bh', 3885400.0, 1850000, 9995000),\n",
       " (10002, '0b0bh', 2295454.55, 0, 9750000),\n",
       " (10004, '4b5bh', 6535750.0, 2500000, 10995000)]"
      ]
     },
     "execution_count": 44,
     "metadata": {},
     "output_type": "execute_result"
    }
   ],
   "source": [
    "step12.take(10)"
   ]
  },
  {
   "cell_type": "markdown",
   "metadata": {},
   "source": [
    "### Saving outputs as csv files"
   ]
  },
  {
   "cell_type": "code",
   "execution_count": 45,
   "metadata": {},
   "outputs": [],
   "source": [
    "# Header \n",
    "col1=[\"zip_code\",\"bed_bath_rooms\",\"min_price\"]\n",
    "col2=[\"zip_code\",\"bed_bath_rooms\",\"max_price\"]\n",
    "col3=[\"zip_code\",\"bed_bath_rooms\",\"avg_price\"]\n",
    "col=[\"zip_code\",\"bed_bath_rooms\",\"avg_price\",\"min_price\",\"max_price\"]\n",
    "\n",
    "# conversion to Data Frame\n",
    "f1=step9.toDF(col1)\n",
    "f2=step10.toDF(col2)\n",
    "f3=step11.toDF(col3)\n",
    "f=step12.toDF(col)"
   ]
  },
  {
   "cell_type": "code",
   "execution_count": 46,
   "metadata": {},
   "outputs": [
    {
     "name": "stdout",
     "output_type": "stream",
     "text": [
      "+--------+--------------+---------+\n",
      "|zip_code|bed_bath_rooms|min_price|\n",
      "+--------+--------------+---------+\n",
      "|   10001|         0b1bh|   410000|\n",
      "|   10001|         0b0bh|        0|\n",
      "|   10003|         2b2bh|  1395000|\n",
      "|   10003|         2b4bh|  7000000|\n",
      "|   10003|        8b10bh| 17800000|\n",
      "|   10002|         1b1bh|   400000|\n",
      "|   10002|         3b2bh|  1100000|\n",
      "|   10002|         2b3bh|  1850000|\n",
      "|   10002|         0b0bh|        0|\n",
      "|   10004|         4b5bh|  2500000|\n",
      "+--------+--------------+---------+\n",
      "only showing top 10 rows\n",
      "\n"
     ]
    }
   ],
   "source": [
    "f1.show(10)"
   ]
  },
  {
   "cell_type": "code",
   "execution_count": 47,
   "metadata": {},
   "outputs": [
    {
     "name": "stdout",
     "output_type": "stream",
     "text": [
      "+--------+--------------+---------+\n",
      "|zip_code|bed_bath_rooms|max_price|\n",
      "+--------+--------------+---------+\n",
      "|   10001|         0b1bh|  1529000|\n",
      "|   10001|         0b0bh|    49000|\n",
      "|   10003|         2b2bh|  7350000|\n",
      "|   10003|         2b4bh| 23000000|\n",
      "|   10003|        8b10bh| 17800000|\n",
      "|   10002|         1b1bh|  2750000|\n",
      "|   10002|         3b2bh|  3527000|\n",
      "|   10002|         2b3bh|  9995000|\n",
      "|   10002|         0b0bh|  9750000|\n",
      "|   10004|         4b5bh| 10995000|\n",
      "+--------+--------------+---------+\n",
      "only showing top 10 rows\n",
      "\n"
     ]
    }
   ],
   "source": [
    "f2.show(10)"
   ]
  },
  {
   "cell_type": "code",
   "execution_count": 48,
   "metadata": {},
   "outputs": [
    {
     "name": "stdout",
     "output_type": "stream",
     "text": [
      "+--------+--------------+----------+\n",
      "|zip_code|bed_bath_rooms| avg_price|\n",
      "+--------+--------------+----------+\n",
      "|   10001|         0b1bh| 739785.71|\n",
      "|   10001|         0b0bh|  16333.33|\n",
      "|   10003|         2b2bh|2505388.88|\n",
      "|   10003|         2b4bh|    1.33E7|\n",
      "|   10003|        8b10bh|    1.78E7|\n",
      "|   10002|         1b1bh|1093295.45|\n",
      "|   10002|         3b2bh|2388217.14|\n",
      "|   10002|         2b3bh| 3885400.0|\n",
      "|   10002|         0b0bh|2295454.55|\n",
      "|   10004|         4b5bh| 6535750.0|\n",
      "+--------+--------------+----------+\n",
      "only showing top 10 rows\n",
      "\n"
     ]
    }
   ],
   "source": [
    "f3.show(10)"
   ]
  },
  {
   "cell_type": "code",
   "execution_count": 49,
   "metadata": {},
   "outputs": [
    {
     "name": "stdout",
     "output_type": "stream",
     "text": [
      "+--------+--------------+----------+---------+---------+\n",
      "|zip_code|bed_bath_rooms| avg_price|min_price|max_price|\n",
      "+--------+--------------+----------+---------+---------+\n",
      "|   10001|         0b1bh| 739785.71|   410000|  1529000|\n",
      "|   10001|         0b0bh|  16333.33|        0|    49000|\n",
      "|   10003|         2b2bh|2505388.88|  1395000|  7350000|\n",
      "|   10003|         2b4bh|    1.33E7|  7000000| 23000000|\n",
      "|   10003|        8b10bh|    1.78E7| 17800000| 17800000|\n",
      "|   10002|         1b1bh|1093295.45|   400000|  2750000|\n",
      "|   10002|         3b2bh|2388217.14|  1100000|  3527000|\n",
      "|   10002|         2b3bh| 3885400.0|  1850000|  9995000|\n",
      "|   10002|         0b0bh|2295454.55|        0|  9750000|\n",
      "|   10004|         4b5bh| 6535750.0|  2500000| 10995000|\n",
      "+--------+--------------+----------+---------+---------+\n",
      "only showing top 10 rows\n",
      "\n"
     ]
    }
   ],
   "source": [
    "f.show(10)"
   ]
  },
  {
   "cell_type": "code",
   "execution_count": 50,
   "metadata": {},
   "outputs": [],
   "source": [
    "f1.toPandas().to_csv(\"min.csv\")\n",
    "f2.toPandas().to_csv(\"max.csv\")\n",
    "f3.toPandas().to_csv(\"average.csv\")\n",
    "f.toPandas().to_csv(\"combined.csv\")"
   ]
  },
  {
   "cell_type": "markdown",
   "metadata": {},
   "source": [
    "### Saving combined output as text file"
   ]
  },
  {
   "cell_type": "code",
   "execution_count": 51,
   "metadata": {},
   "outputs": [
    {
     "name": "stdout",
     "output_type": "stream",
     "text": [
      "Successfully saved at  D:\\Semester 3\\Spark\\Assignment\n"
     ]
    }
   ],
   "source": [
    "import os\n",
    "f4 = f.toPandas()\n",
    "f4.to_csv('Output.txt', index=False)\n",
    "print('Successfully saved at ',os.getcwd())"
   ]
  },
  {
   "cell_type": "markdown",
   "metadata": {},
   "source": [
    "### Submitted By:\n",
    "* **Lakshmi V Aji         (20BDA09)**\n",
    "* **Josmi Agnes Jose      (20BDA27)**\n",
    "* **Aishwarya Nair M J    (20BDA42)**\n",
    "* **Mariya Biju           (20BDA61)**\n",
    "    "
   ]
  },
  {
   "cell_type": "code",
   "execution_count": null,
   "metadata": {},
   "outputs": [],
   "source": []
  }
 ],
 "metadata": {
  "kernelspec": {
   "display_name": "Python 3",
   "language": "python",
   "name": "python3"
  },
  "language_info": {
   "codemirror_mode": {
    "name": "ipython",
    "version": 3
   },
   "file_extension": ".py",
   "mimetype": "text/x-python",
   "name": "python",
   "nbconvert_exporter": "python",
   "pygments_lexer": "ipython3",
   "version": "3.8.3"
  }
 },
 "nbformat": 4,
 "nbformat_minor": 4
}
